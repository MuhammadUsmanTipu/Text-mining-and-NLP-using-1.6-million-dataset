{
 "cells": [
  {
   "cell_type": "markdown",
   "id": "0b98f518",
   "metadata": {},
   "source": [
    "# Question 1"
   ]
  },
  {
   "cell_type": "markdown",
   "id": "89050c2a",
   "metadata": {},
   "source": [
    "## Importing Libraries"
   ]
  },
  {
   "cell_type": "markdown",
   "id": "0c142c82",
   "metadata": {},
   "source": [
    "- Initially we will import all the libraries which will be used in our assignment"
   ]
  },
  {
   "cell_type": "code",
   "execution_count": 1,
   "id": "0caff921",
   "metadata": {},
   "outputs": [],
   "source": [
    "#!pip install tensorflow\n",
    "import pandas as pd\n",
    "import numpy as np\n",
    "import seaborn as sb\n",
    "import plotly.express as px\n",
    "import matplotlib.pyplot as plt\n",
    "import re\n",
    "import os\n",
    "import nltk\n",
    "from sklearn.preprocessing import LabelEncoder\n",
    "from keras.callbacks import ReduceLROnPlateau, EarlyStopping\n",
    "from keras.layers import Activation, Dense, Dropout, Embedding, Flatten, Conv1D, MaxPooling1D, LSTM\n",
    "from keras.preprocessing.text import Tokenizer\n",
    "from tensorflow.keras.preprocessing.sequence import pad_sequences\n",
    "from tensorflow.keras import datasets, layers, models, losses\n",
    "from sklearn.svm import SVC\n",
    "from wordcloud import WordCloud,STOPWORDS\n",
    "from keras.preprocessing.text import Tokenizer\n",
    "from tensorflow.keras.preprocessing.sequence import pad_sequences\n",
    "from nltk.corpus import stopwords  \n",
    "from nltk import SnowballStemmer\n",
    "from sklearn.feature_extraction.text import TfidfVectorizer\n",
    "from sklearn.model_selection import train_test_split\n",
    "from imblearn.over_sampling import SMOTE \n",
    "from sklearn.neighbors import KNeighborsClassifier\n",
    "from sklearn.tree import DecisionTreeClassifier\n",
    "from sklearn import svm\n",
    "from xgboost import XGBClassifier\n",
    "from sklearn.tree import DecisionTreeClassifier\n",
    "from sklearn.metrics import accuracy_score,confusion_matrix,classification_report\n",
    "import warnings\n",
    "warnings.filterwarnings('ignore')"
   ]
  },
  {
   "cell_type": "markdown",
   "id": "802ae3e4",
   "metadata": {},
   "source": [
    "# Data Exploration and Preparation"
   ]
  },
  {
   "cell_type": "code",
   "execution_count": 2,
   "id": "f4667637",
   "metadata": {},
   "outputs": [
    {
     "data": {
      "text/html": [
       "<div>\n",
       "<style scoped>\n",
       "    .dataframe tbody tr th:only-of-type {\n",
       "        vertical-align: middle;\n",
       "    }\n",
       "\n",
       "    .dataframe tbody tr th {\n",
       "        vertical-align: top;\n",
       "    }\n",
       "\n",
       "    .dataframe thead th {\n",
       "        text-align: right;\n",
       "    }\n",
       "</style>\n",
       "<table border=\"1\" class=\"dataframe\">\n",
       "  <thead>\n",
       "    <tr style=\"text-align: right;\">\n",
       "      <th></th>\n",
       "      <th>target</th>\n",
       "      <th>ids</th>\n",
       "      <th>date</th>\n",
       "      <th>flag</th>\n",
       "      <th>user</th>\n",
       "      <th>text</th>\n",
       "    </tr>\n",
       "  </thead>\n",
       "  <tbody>\n",
       "    <tr>\n",
       "      <th>0</th>\n",
       "      <td>0</td>\n",
       "      <td>1467810369</td>\n",
       "      <td>Mon Apr 06 22:19:45 PDT 2009</td>\n",
       "      <td>NO_QUERY</td>\n",
       "      <td>_TheSpecialOne_</td>\n",
       "      <td>@switchfoot http://twitpic.com/2y1zl - Awww, t...</td>\n",
       "    </tr>\n",
       "    <tr>\n",
       "      <th>1</th>\n",
       "      <td>0</td>\n",
       "      <td>1467810672</td>\n",
       "      <td>Mon Apr 06 22:19:49 PDT 2009</td>\n",
       "      <td>NO_QUERY</td>\n",
       "      <td>scotthamilton</td>\n",
       "      <td>is upset that he can't update his Facebook by ...</td>\n",
       "    </tr>\n",
       "    <tr>\n",
       "      <th>2</th>\n",
       "      <td>0</td>\n",
       "      <td>1467810917</td>\n",
       "      <td>Mon Apr 06 22:19:53 PDT 2009</td>\n",
       "      <td>NO_QUERY</td>\n",
       "      <td>mattycus</td>\n",
       "      <td>@Kenichan I dived many times for the ball. Man...</td>\n",
       "    </tr>\n",
       "    <tr>\n",
       "      <th>3</th>\n",
       "      <td>0</td>\n",
       "      <td>1467811184</td>\n",
       "      <td>Mon Apr 06 22:19:57 PDT 2009</td>\n",
       "      <td>NO_QUERY</td>\n",
       "      <td>ElleCTF</td>\n",
       "      <td>my whole body feels itchy and like its on fire</td>\n",
       "    </tr>\n",
       "    <tr>\n",
       "      <th>4</th>\n",
       "      <td>0</td>\n",
       "      <td>1467811193</td>\n",
       "      <td>Mon Apr 06 22:19:57 PDT 2009</td>\n",
       "      <td>NO_QUERY</td>\n",
       "      <td>Karoli</td>\n",
       "      <td>@nationwideclass no, it's not behaving at all....</td>\n",
       "    </tr>\n",
       "  </tbody>\n",
       "</table>\n",
       "</div>"
      ],
      "text/plain": [
       "   target         ids                          date      flag  \\\n",
       "0       0  1467810369  Mon Apr 06 22:19:45 PDT 2009  NO_QUERY   \n",
       "1       0  1467810672  Mon Apr 06 22:19:49 PDT 2009  NO_QUERY   \n",
       "2       0  1467810917  Mon Apr 06 22:19:53 PDT 2009  NO_QUERY   \n",
       "3       0  1467811184  Mon Apr 06 22:19:57 PDT 2009  NO_QUERY   \n",
       "4       0  1467811193  Mon Apr 06 22:19:57 PDT 2009  NO_QUERY   \n",
       "\n",
       "              user                                               text  \n",
       "0  _TheSpecialOne_  @switchfoot http://twitpic.com/2y1zl - Awww, t...  \n",
       "1    scotthamilton  is upset that he can't update his Facebook by ...  \n",
       "2         mattycus  @Kenichan I dived many times for the ball. Man...  \n",
       "3          ElleCTF    my whole body feels itchy and like its on fire   \n",
       "4           Karoli  @nationwideclass no, it's not behaving at all....  "
      ]
     },
     "execution_count": 2,
     "metadata": {},
     "output_type": "execute_result"
    }
   ],
   "source": [
    "# Reading the data\n",
    "ens_learn = pd.read_csv('training.csv', encoding='cp1252', names = {0 : 'targets', 1 : 'ids', 2 : 'date', 3 : 'flag', 4 : 'user', 5 : 'text'})\n",
    "ens_learn_copy = ens_learn\n",
    "# Checking first 5 rows of data\n",
    "ens_learn.columns=['target', 'ids','date','flag','user','text']\n",
    "ens_learn.head()"
   ]
  },
  {
   "cell_type": "markdown",
   "id": "39852e96",
   "metadata": {},
   "source": [
    "- Taking 10 percent of data from our dataset"
   ]
  },
  {
   "cell_type": "code",
   "execution_count": 3,
   "id": "3a8cd82b",
   "metadata": {},
   "outputs": [],
   "source": [
    "ens_learn = ens_learn.sample(160000)"
   ]
  },
  {
   "cell_type": "markdown",
   "id": "b6ccfdce",
   "metadata": {},
   "source": [
    "- 160k of data with 6 coumns"
   ]
  },
  {
   "cell_type": "code",
   "execution_count": 4,
   "id": "833b5a20",
   "metadata": {},
   "outputs": [
    {
     "data": {
      "text/plain": [
       "(160000, 6)"
      ]
     },
     "execution_count": 4,
     "metadata": {},
     "output_type": "execute_result"
    }
   ],
   "source": [
    "# Checking number of rows and columns\n",
    "ens_learn.shape"
   ]
  },
  {
   "cell_type": "code",
   "execution_count": 5,
   "id": "d1975023",
   "metadata": {},
   "outputs": [
    {
     "data": {
      "text/plain": [
       "Index(['target', 'ids', 'date', 'flag', 'user', 'text'], dtype='object')"
      ]
     },
     "execution_count": 5,
     "metadata": {},
     "output_type": "execute_result"
    }
   ],
   "source": [
    "# Names of columns\n",
    "ens_learn.columns"
   ]
  },
  {
   "cell_type": "code",
   "execution_count": 6,
   "id": "3123080b",
   "metadata": {},
   "outputs": [
    {
     "name": "stdout",
     "output_type": "stream",
     "text": [
      "<class 'pandas.core.frame.DataFrame'>\n",
      "Int64Index: 160000 entries, 248009 to 409332\n",
      "Data columns (total 6 columns):\n",
      " #   Column  Non-Null Count   Dtype \n",
      "---  ------  --------------   ----- \n",
      " 0   target  160000 non-null  int64 \n",
      " 1   ids     160000 non-null  int64 \n",
      " 2   date    160000 non-null  object\n",
      " 3   flag    160000 non-null  object\n",
      " 4   user    160000 non-null  object\n",
      " 5   text    160000 non-null  object\n",
      "dtypes: int64(2), object(4)\n",
      "memory usage: 8.5+ MB\n"
     ]
    }
   ],
   "source": [
    "# complete information of data with datatypes of columns\n",
    "ens_learn.info()"
   ]
  },
  {
   "cell_type": "code",
   "execution_count": 7,
   "id": "53f73a19",
   "metadata": {},
   "outputs": [
    {
     "data": {
      "text/plain": [
       "target    0\n",
       "ids       0\n",
       "date      0\n",
       "flag      0\n",
       "user      0\n",
       "text      0\n",
       "dtype: int64"
      ]
     },
     "execution_count": 7,
     "metadata": {},
     "output_type": "execute_result"
    }
   ],
   "source": [
    "#Checking number of null values\n",
    "ens_learn.isna().sum()"
   ]
  },
  {
   "cell_type": "markdown",
   "id": "3f60834a",
   "metadata": {},
   "source": [
    "- There are no null values in our dataset"
   ]
  },
  {
   "cell_type": "code",
   "execution_count": 8,
   "id": "86e8ea9d",
   "metadata": {},
   "outputs": [
    {
     "data": {
      "text/plain": [
       "'Fri Apr 17 20:30:55 PDT 2009'"
      ]
     },
     "execution_count": 8,
     "metadata": {},
     "output_type": "execute_result"
    }
   ],
   "source": [
    "# Checking the initial date of tweets  \n",
    "ens_learn['date'].min()"
   ]
  },
  {
   "cell_type": "code",
   "execution_count": 9,
   "id": "2b2d8b0f",
   "metadata": {},
   "outputs": [
    {
     "data": {
      "text/plain": [
       "'Wed May 27 07:27:38 PDT 2009'"
      ]
     },
     "execution_count": 9,
     "metadata": {},
     "output_type": "execute_result"
    }
   ],
   "source": [
    "# Checking last date of tweets\n",
    "ens_learn['date'].max()"
   ]
  },
  {
   "cell_type": "code",
   "execution_count": 10,
   "id": "ef7f48d2",
   "metadata": {},
   "outputs": [
    {
     "name": "stdout",
     "output_type": "stream",
     "text": [
      "0\n"
     ]
    }
   ],
   "source": [
    "# number of duplicates\n",
    "print(ens_learn.duplicated().loc[lambda x : x == True].count())"
   ]
  },
  {
   "cell_type": "markdown",
   "id": "434bd467",
   "metadata": {},
   "source": [
    "- There are no duplicates in the dataframe"
   ]
  },
  {
   "cell_type": "markdown",
   "id": "5457515e",
   "metadata": {},
   "source": [
    "# Data Cleaning\n"
   ]
  },
  {
   "cell_type": "markdown",
   "id": "8364c570",
   "metadata": {},
   "source": [
    "- Now we are cleaning the data So that our models provide us with better precision and acuracy. I named and define them with what iws happening."
   ]
  },
  {
   "cell_type": "code",
   "execution_count": 11,
   "id": "a3fb281f",
   "metadata": {},
   "outputs": [],
   "source": [
    "\n",
    "# Removing the URl\n",
    "\n",
    "def rem_url(text):\n",
    "    url = re.compile(r'https?://\\S+|www\\.\\S+')\n",
    "    return url.sub(r'',text)\n",
    "\n",
    "# Removing the stepwords 'english'\n",
    "def rem_stopwords(text):\n",
    "    text = ' '.join([word for word in text.split() if word not in (stopwords.words('english'))])\n",
    "    return text\n",
    "\n",
    "# Removing the html  \n",
    "def rem_html(text):\n",
    "    html=re.compile(r'<.*?>')\n",
    "    return html.sub(r'',text)\n",
    "\n",
    "def remove_at_mentions(text):\n",
    "    return re.sub(r'@\\w+', '', text)\n",
    "\n",
    "\n",
    "# Removing emojis by codes\n",
    "def rem_emoji(text):\n",
    "    emoji_pattern = re.compile(\"[\"\n",
    "                           u\"\\U0001F600-\\U0001F64F\"  \n",
    "                           u\"\\U0001F300-\\U0001F5FF\" \n",
    "                           u\"\\U000024C2-\\U0001F251\"\n",
    "                           \"]+\", flags=re.UNICODE)\n",
    "    return emoji_pattern.sub(r'', text)\n",
    "\n",
    "\n",
    "# Fixing the text\n",
    "def fixing(text):\n",
    "    text = re.sub(r\"Mr\\'s\", \" he is\", text)\n",
    "    text = re.sub(r\"Mr\\'.\", \" he is\", text)\n",
    "    text = re.sub(r\"Ms\\'.\", \" She \", text)\n",
    "    text = re.sub(r\"She\\'s\", \" she is\", text)\n",
    "    text = re.sub(r\"I\\'m\", \" i am\", text)\n",
    "    text = re.sub(r\"haven\\'t\", \" have not\", text)\n",
    "    text = re.sub(r\"you\\'r\", \" you are\", text)\n",
    "    text = re.sub(r\"won\\'t\", \" will not\", text)\n",
    "    text = re.sub(r\"won\\'t've\", \" will not have\", text)\n",
    "    text = re.sub(r\"can\\'t\", \" can not\", text)\n",
    "    text = re.sub(r\"don\\'t\", \" do not\", text)\n",
    "    text = re.sub(r\" plz\", \" please\", text)\n",
    "    text = re.sub(r\"it\\'s\", \" its\", text) \n",
    "    text = re.sub(r\"can\\'t've\", \" can not have\", text)\n",
    "    text = re.sub(r\"ma\\'am\", \" madam\", text)\n",
    "    text = re.sub(r\"let\\'s\", \" let us\", text)\n",
    "    text = re.sub(r\"ain\\'t\", \" am not\", text)\n",
    "    text = re.sub(r\"shan\\'t\", \" shall not\", text)\n",
    "    text = re.sub(r\"sha\\n't\", \" shall not\", text)\n",
    "    text = re.sub(r\"o\\'clock\", \" of the clock\", text)\n",
    "    text = re.sub(r\"y\\'all\", \" you all\", text)\n",
    "    text = re.sub(r\"n\\'t\", \" not\", text)\n",
    "    text = re.sub(r\"n\\'t've\", \" not have\", text)\n",
    "    text = re.sub(r\"\\'re\", \" are\", text)\n",
    "    text = re.sub(r\"\\'s\", \" is\", text)\n",
    "    text = re.sub(r\"\\'d\", \" would\", text)\n",
    "    text = re.sub(r\"\\'d've\", \" would have\", text)\n",
    "    text = re.sub(r\"\\'ll\", \" will\", text)\n",
    "    text = re.sub(r\"\\'ll've\", \" will have\", text)\n",
    "    text = re.sub(r\"\\'t\", \" not\", text)\n",
    "    text = re.sub(r\"\\'ve\", \" have\", text)\n",
    "    text = re.sub(r\"\\'m\", \" am\", text)\n",
    "    text = re.sub(r\"\\'re\", \" are\", text)\n",
    "    text = re.sub(r\"He\\'s\", \" he is\", text)\n",
    "    text = re.sub(r\"in\\'s\", \" in\", text)\n",
    "    return text\n",
    "\n",
    "# Seperate alphabets\n",
    "def sep_alphabets(text):\n",
    "    words = text\n",
    "    words = re.findall(r\"[^\\W\\d_]+|\\d+\", words)\n",
    "    return \" \".join(words)\n",
    "\n",
    "\n",
    "def tweet_to_words(tweet):\n",
    "    letters_only = re.sub(\"[^a-zA-Z]\", \" \",tweet) \n",
    "    words = letters_only.lower().split()                             \n",
    "    stops = set(stopwords.words(\"english\"))                  \n",
    "    meaningful_words = [w for w in words if not w in stops] \n",
    "    return( \" \".join( meaningful_words ))\n",
    "\n",
    "ens_learn['final_text'] = ens_learn['text']\n",
    "\n",
    "ens_learn['final_text'] = ens_learn['final_text'].astype(str).apply(remove_at_mentions)\n",
    "ens_learn['final_text'] = ens_learn['final_text'].apply(lambda x : rem_url(x))\n",
    "ens_learn['final_text'] = ens_learn['final_text'].apply(lambda x : rem_stopwords(x))\n",
    "ens_learn['final_text'] = ens_learn['final_text'].apply(lambda x : rem_html(x))\n",
    "ens_learn['final_text'] = ens_learn['final_text'].apply(lambda x : rem_emoji(x))\n",
    "ens_learn['final_text'] = ens_learn['final_text'].apply(lambda x : fixing(x))\n",
    "ens_learn['final_text'] = ens_learn['final_text'].apply(lambda x : sep_alphabets(x))\n",
    "ens_learn['final_text'] = ens_learn['final_text'].apply(lambda x : tweet_to_words(x))\n",
    "ens_learn['final_text'] = ens_learn['final_text'].astype(str).replace(\"plz\", \"please\", regex=True)"
   ]
  },
  {
   "cell_type": "markdown",
   "id": "2d162f48",
   "metadata": {},
   "source": [
    "- After cleaning the whole data whoich we take, Now we will see the outcomes in our dataframe. We remove urls, html,emojis,make words proper So the reader and machine can read easily and separate alphabets with spaces"
   ]
  },
  {
   "cell_type": "code",
   "execution_count": 12,
   "id": "59c4a139",
   "metadata": {},
   "outputs": [
    {
     "data": {
      "text/plain": [
       "248009                           also lost crazy golf today\n",
       "363435                             amp lucky u get watch sd\n",
       "228822    cover ridiculous someone listening charlotte m...\n",
       "381593                duh dreams last night funny love miss\n",
       "126844    abbe ullu ke paththe sota kyu nahi coz neend n...\n",
       "                                ...                        \n",
       "18780                                         oh well tried\n",
       "498738                                 take waste nice legs\n",
       "636842    roche last day base dont know feel ending ill ...\n",
       "719717    lesson partitioned views becomes failure estab...\n",
       "409332                           hit wrong button vs stupid\n",
       "Name: final_text, Length: 160000, dtype: object"
      ]
     },
     "execution_count": 12,
     "metadata": {},
     "output_type": "execute_result"
    }
   ],
   "source": [
    "ens_learn['final_text']"
   ]
  },
  {
   "cell_type": "markdown",
   "id": "c079f581",
   "metadata": {},
   "source": [
    "## Tokenization "
   ]
  },
  {
   "cell_type": "code",
   "execution_count": 13,
   "id": "2d3cd04c",
   "metadata": {},
   "outputs": [
    {
     "data": {
      "text/plain": [
       "248009                     [also, lost, crazy, golf, today]\n",
       "363435                      [amp, lucky, u, get, watch, sd]\n",
       "228822    [cover, ridiculous, someone, listening, charlo...\n",
       "381593        [duh, dreams, last, night, funny, love, miss]\n",
       "126844    [abbe, ullu, ke, paththe, sota, kyu, nahi, coz...\n",
       "                                ...                        \n",
       "18780                                     [oh, well, tried]\n",
       "498738                            [take, waste, nice, legs]\n",
       "636842    [roche, last, day, base, dont, know, feel, end...\n",
       "719717    [lesson, partitioned, views, becomes, failure,...\n",
       "409332                     [hit, wrong, button, vs, stupid]\n",
       "Name: new_tokens, Length: 160000, dtype: object"
      ]
     },
     "execution_count": 13,
     "metadata": {},
     "output_type": "execute_result"
    }
   ],
   "source": [
    "# A function for the tokenization\n",
    "def tokenize(text):\n",
    "  return text.split()\n",
    "\n",
    "  # Apply the tokenization function to the 'text' column\n",
    "ens_learn['new_tokens'] = ens_learn['final_text'].apply(tokenize)\n",
    "ens_learn['new_tokens']"
   ]
  },
  {
   "cell_type": "markdown",
   "id": "905e43d0",
   "metadata": {},
   "source": [
    "- Breaking down a larger piece of text into smaller pieces called tokens. These tokens can be individual words, phrases, symbols, or even individual characters. Tokenization allows for more accurate analysis of text data by allowing the model to focus on individual words or phrases rather than the entire document."
   ]
  },
  {
   "cell_type": "markdown",
   "id": "c5768922",
   "metadata": {},
   "source": [
    "## Stemming "
   ]
  },
  {
   "cell_type": "code",
   "execution_count": 14,
   "id": "c807f017",
   "metadata": {},
   "outputs": [
    {
     "data": {
      "text/plain": [
       "248009                           also lost crazi golf today\n",
       "363435                             amp lucki u get watch sd\n",
       "228822    cover ridicul someon listen charlott make bad ...\n",
       "381593                 duh dream last night funni love miss\n",
       "126844    abb ullu ke pathth sota kyu nahi coz neend nah...\n",
       "                                ...                        \n",
       "18780                                           oh well tri\n",
       "498738                                   take wast nice leg\n",
       "636842    roch last day base dont know feel end ill kind...\n",
       "719717    lesson partit view becom failur establish link...\n",
       "409332                           hit wrong button vs stupid\n",
       "Name: stemming, Length: 160000, dtype: object"
      ]
     },
     "execution_count": 14,
     "metadata": {},
     "output_type": "execute_result"
    }
   ],
   "source": [
    "\n",
    "snowbs = SnowballStemmer(language='english')\n",
    "def stemmer(text):\n",
    "    text = [snowbs.stem(word) for word in text.split(' ')]\n",
    "    text = \" \".join(text)\n",
    "    return text\n",
    "\n",
    "ens_learn['stemming'] = ens_learn['final_text'].apply(stemmer)\n",
    "ens_learn['stemming']\n"
   ]
  },
  {
   "cell_type": "markdown",
   "id": "52d07ece",
   "metadata": {},
   "source": [
    "- The main purpose of stemming is to reduce the dimensionality of the data by reducing the number of unique words in the text. I have made a separate column named stemming for the results and we can see the final text and the stemmed text below."
   ]
  },
  {
   "cell_type": "code",
   "execution_count": 15,
   "id": "f6d6222d",
   "metadata": {},
   "outputs": [
    {
     "data": {
      "text/html": [
       "<div>\n",
       "<style scoped>\n",
       "    .dataframe tbody tr th:only-of-type {\n",
       "        vertical-align: middle;\n",
       "    }\n",
       "\n",
       "    .dataframe tbody tr th {\n",
       "        vertical-align: top;\n",
       "    }\n",
       "\n",
       "    .dataframe thead th {\n",
       "        text-align: right;\n",
       "    }\n",
       "</style>\n",
       "<table border=\"1\" class=\"dataframe\">\n",
       "  <thead>\n",
       "    <tr style=\"text-align: right;\">\n",
       "      <th></th>\n",
       "      <th>target</th>\n",
       "      <th>ids</th>\n",
       "      <th>date</th>\n",
       "      <th>flag</th>\n",
       "      <th>user</th>\n",
       "      <th>text</th>\n",
       "      <th>final_text</th>\n",
       "      <th>new_tokens</th>\n",
       "      <th>stemming</th>\n",
       "    </tr>\n",
       "  </thead>\n",
       "  <tbody>\n",
       "    <tr>\n",
       "      <th>248009</th>\n",
       "      <td>0</td>\n",
       "      <td>1982610663</td>\n",
       "      <td>Sun May 31 11:33:11 PDT 2009</td>\n",
       "      <td>NO_QUERY</td>\n",
       "      <td>PinstripeDave</td>\n",
       "      <td>@Alicebouquet also lost to @davelewistwit at c...</td>\n",
       "      <td>also lost crazy golf today</td>\n",
       "      <td>[also, lost, crazy, golf, today]</td>\n",
       "      <td>also lost crazi golf today</td>\n",
       "    </tr>\n",
       "    <tr>\n",
       "      <th>363435</th>\n",
       "      <td>0</td>\n",
       "      <td>2047845844</td>\n",
       "      <td>Fri Jun 05 14:16:07 PDT 2009</td>\n",
       "      <td>NO_QUERY</td>\n",
       "      <td>TheAngryChild</td>\n",
       "      <td>@mickie33lou &amp;amp; @Champers4u How lucky, u ge...</td>\n",
       "      <td>amp lucky u get watch sd</td>\n",
       "      <td>[amp, lucky, u, get, watch, sd]</td>\n",
       "      <td>amp lucki u get watch sd</td>\n",
       "    </tr>\n",
       "    <tr>\n",
       "      <th>228822</th>\n",
       "      <td>0</td>\n",
       "      <td>1978343369</td>\n",
       "      <td>Sat May 30 23:04:48 PDT 2009</td>\n",
       "      <td>NO_QUERY</td>\n",
       "      <td>mrmarcusw</td>\n",
       "      <td>20 for a cover is ridiculous. Is someone liste...</td>\n",
       "      <td>cover ridiculous someone listening charlotte m...</td>\n",
       "      <td>[cover, ridiculous, someone, listening, charlo...</td>\n",
       "      <td>cover ridicul someon listen charlott make bad ...</td>\n",
       "    </tr>\n",
       "    <tr>\n",
       "      <th>381593</th>\n",
       "      <td>0</td>\n",
       "      <td>2052818312</td>\n",
       "      <td>Sat Jun 06 02:08:30 PDT 2009</td>\n",
       "      <td>NO_QUERY</td>\n",
       "      <td>ShizzleLizzle</td>\n",
       "      <td>@Freaking_Crazy DUH. You were in my dreams las...</td>\n",
       "      <td>duh dreams last night funny love miss</td>\n",
       "      <td>[duh, dreams, last, night, funny, love, miss]</td>\n",
       "      <td>duh dream last night funni love miss</td>\n",
       "    </tr>\n",
       "    <tr>\n",
       "      <th>126844</th>\n",
       "      <td>0</td>\n",
       "      <td>1834600923</td>\n",
       "      <td>Mon May 18 03:33:09 PDT 2009</td>\n",
       "      <td>NO_QUERY</td>\n",
       "      <td>thathoo</td>\n",
       "      <td>@thathoo abbe ullu ke paththe sota kyu nahi......</td>\n",
       "      <td>abbe ullu ke paththe sota kyu nahi coz neend n...</td>\n",
       "      <td>[abbe, ullu, ke, paththe, sota, kyu, nahi, coz...</td>\n",
       "      <td>abb ullu ke pathth sota kyu nahi coz neend nah...</td>\n",
       "    </tr>\n",
       "    <tr>\n",
       "      <th>...</th>\n",
       "      <td>...</td>\n",
       "      <td>...</td>\n",
       "      <td>...</td>\n",
       "      <td>...</td>\n",
       "      <td>...</td>\n",
       "      <td>...</td>\n",
       "      <td>...</td>\n",
       "      <td>...</td>\n",
       "      <td>...</td>\n",
       "    </tr>\n",
       "    <tr>\n",
       "      <th>18780</th>\n",
       "      <td>0</td>\n",
       "      <td>1556687473</td>\n",
       "      <td>Sat Apr 18 23:53:02 PDT 2009</td>\n",
       "      <td>NO_QUERY</td>\n",
       "      <td>triphoppa</td>\n",
       "      <td>@EmpressEricka oh well I tried</td>\n",
       "      <td>oh well tried</td>\n",
       "      <td>[oh, well, tried]</td>\n",
       "      <td>oh well tri</td>\n",
       "    </tr>\n",
       "    <tr>\n",
       "      <th>498738</th>\n",
       "      <td>0</td>\n",
       "      <td>2186305051</td>\n",
       "      <td>Mon Jun 15 18:38:56 PDT 2009</td>\n",
       "      <td>NO_QUERY</td>\n",
       "      <td>alit989</td>\n",
       "      <td>I will take that as a no then... waste of nice...</td>\n",
       "      <td>take waste nice legs</td>\n",
       "      <td>[take, waste, nice, legs]</td>\n",
       "      <td>take wast nice leg</td>\n",
       "    </tr>\n",
       "    <tr>\n",
       "      <th>636842</th>\n",
       "      <td>0</td>\n",
       "      <td>2234028742</td>\n",
       "      <td>Thu Jun 18 22:18:15 PDT 2009</td>\n",
       "      <td>NO_QUERY</td>\n",
       "      <td>Natalierose922</td>\n",
       "      <td>roche 10-3 then last day at base 3-6. dont kno...</td>\n",
       "      <td>roche last day base dont know feel ending ill ...</td>\n",
       "      <td>[roche, last, day, base, dont, know, feel, end...</td>\n",
       "      <td>roch last day base dont know feel end ill kind...</td>\n",
       "    </tr>\n",
       "    <tr>\n",
       "      <th>719717</th>\n",
       "      <td>0</td>\n",
       "      <td>2260682044</td>\n",
       "      <td>Sat Jun 20 19:36:33 PDT 2009</td>\n",
       "      <td>NO_QUERY</td>\n",
       "      <td>gamcall</td>\n",
       "      <td>lesson on partitioned views becomes failure in...</td>\n",
       "      <td>lesson partitioned views becomes failure estab...</td>\n",
       "      <td>[lesson, partitioned, views, becomes, failure,...</td>\n",
       "      <td>lesson partit view becom failur establish link...</td>\n",
       "    </tr>\n",
       "    <tr>\n",
       "      <th>409332</th>\n",
       "      <td>0</td>\n",
       "      <td>2059622862</td>\n",
       "      <td>Sat Jun 06 17:18:12 PDT 2009</td>\n",
       "      <td>NO_QUERY</td>\n",
       "      <td>steeldragon07</td>\n",
       "      <td>just hit the wrong button in 1 vs. 100. stupid...</td>\n",
       "      <td>hit wrong button vs stupid</td>\n",
       "      <td>[hit, wrong, button, vs, stupid]</td>\n",
       "      <td>hit wrong button vs stupid</td>\n",
       "    </tr>\n",
       "  </tbody>\n",
       "</table>\n",
       "<p>160000 rows × 9 columns</p>\n",
       "</div>"
      ],
      "text/plain": [
       "        target         ids                          date      flag  \\\n",
       "248009       0  1982610663  Sun May 31 11:33:11 PDT 2009  NO_QUERY   \n",
       "363435       0  2047845844  Fri Jun 05 14:16:07 PDT 2009  NO_QUERY   \n",
       "228822       0  1978343369  Sat May 30 23:04:48 PDT 2009  NO_QUERY   \n",
       "381593       0  2052818312  Sat Jun 06 02:08:30 PDT 2009  NO_QUERY   \n",
       "126844       0  1834600923  Mon May 18 03:33:09 PDT 2009  NO_QUERY   \n",
       "...        ...         ...                           ...       ...   \n",
       "18780        0  1556687473  Sat Apr 18 23:53:02 PDT 2009  NO_QUERY   \n",
       "498738       0  2186305051  Mon Jun 15 18:38:56 PDT 2009  NO_QUERY   \n",
       "636842       0  2234028742  Thu Jun 18 22:18:15 PDT 2009  NO_QUERY   \n",
       "719717       0  2260682044  Sat Jun 20 19:36:33 PDT 2009  NO_QUERY   \n",
       "409332       0  2059622862  Sat Jun 06 17:18:12 PDT 2009  NO_QUERY   \n",
       "\n",
       "                  user                                               text  \\\n",
       "248009   PinstripeDave  @Alicebouquet also lost to @davelewistwit at c...   \n",
       "363435   TheAngryChild  @mickie33lou &amp; @Champers4u How lucky, u ge...   \n",
       "228822       mrmarcusw  20 for a cover is ridiculous. Is someone liste...   \n",
       "381593   ShizzleLizzle  @Freaking_Crazy DUH. You were in my dreams las...   \n",
       "126844         thathoo  @thathoo abbe ullu ke paththe sota kyu nahi......   \n",
       "...                ...                                                ...   \n",
       "18780        triphoppa                    @EmpressEricka oh well I tried    \n",
       "498738         alit989  I will take that as a no then... waste of nice...   \n",
       "636842  Natalierose922  roche 10-3 then last day at base 3-6. dont kno...   \n",
       "719717         gamcall  lesson on partitioned views becomes failure in...   \n",
       "409332   steeldragon07  just hit the wrong button in 1 vs. 100. stupid...   \n",
       "\n",
       "                                               final_text  \\\n",
       "248009                         also lost crazy golf today   \n",
       "363435                           amp lucky u get watch sd   \n",
       "228822  cover ridiculous someone listening charlotte m...   \n",
       "381593              duh dreams last night funny love miss   \n",
       "126844  abbe ullu ke paththe sota kyu nahi coz neend n...   \n",
       "...                                                   ...   \n",
       "18780                                       oh well tried   \n",
       "498738                               take waste nice legs   \n",
       "636842  roche last day base dont know feel ending ill ...   \n",
       "719717  lesson partitioned views becomes failure estab...   \n",
       "409332                         hit wrong button vs stupid   \n",
       "\n",
       "                                               new_tokens  \\\n",
       "248009                   [also, lost, crazy, golf, today]   \n",
       "363435                    [amp, lucky, u, get, watch, sd]   \n",
       "228822  [cover, ridiculous, someone, listening, charlo...   \n",
       "381593      [duh, dreams, last, night, funny, love, miss]   \n",
       "126844  [abbe, ullu, ke, paththe, sota, kyu, nahi, coz...   \n",
       "...                                                   ...   \n",
       "18780                                   [oh, well, tried]   \n",
       "498738                          [take, waste, nice, legs]   \n",
       "636842  [roche, last, day, base, dont, know, feel, end...   \n",
       "719717  [lesson, partitioned, views, becomes, failure,...   \n",
       "409332                   [hit, wrong, button, vs, stupid]   \n",
       "\n",
       "                                                 stemming  \n",
       "248009                         also lost crazi golf today  \n",
       "363435                           amp lucki u get watch sd  \n",
       "228822  cover ridicul someon listen charlott make bad ...  \n",
       "381593               duh dream last night funni love miss  \n",
       "126844  abb ullu ke pathth sota kyu nahi coz neend nah...  \n",
       "...                                                   ...  \n",
       "18780                                         oh well tri  \n",
       "498738                                 take wast nice leg  \n",
       "636842  roch last day base dont know feel end ill kind...  \n",
       "719717  lesson partit view becom failur establish link...  \n",
       "409332                         hit wrong button vs stupid  \n",
       "\n",
       "[160000 rows x 9 columns]"
      ]
     },
     "execution_count": 15,
     "metadata": {},
     "output_type": "execute_result"
    }
   ],
   "source": [
    "ens_learn"
   ]
  },
  {
   "cell_type": "markdown",
   "id": "a94d5e74",
   "metadata": {},
   "source": [
    "## Visualization "
   ]
  },
  {
   "cell_type": "markdown",
   "id": "06d29c57",
   "metadata": {},
   "source": [
    "- First we are grouping to get the tweets date wise and then we will visualize the dataframe and see the increasing counts of tweets with the dates"
   ]
  },
  {
   "cell_type": "code",
   "execution_count": 16,
   "id": "ff9af6f8",
   "metadata": {},
   "outputs": [
    {
     "data": {
      "text/html": [
       "<div>\n",
       "<style scoped>\n",
       "    .dataframe tbody tr th:only-of-type {\n",
       "        vertical-align: middle;\n",
       "    }\n",
       "\n",
       "    .dataframe tbody tr th {\n",
       "        vertical-align: top;\n",
       "    }\n",
       "\n",
       "    .dataframe thead th {\n",
       "        text-align: right;\n",
       "    }\n",
       "</style>\n",
       "<table border=\"1\" class=\"dataframe\">\n",
       "  <thead>\n",
       "    <tr style=\"text-align: right;\">\n",
       "      <th></th>\n",
       "      <th>Date</th>\n",
       "      <th>Count</th>\n",
       "    </tr>\n",
       "  </thead>\n",
       "  <tbody>\n",
       "    <tr>\n",
       "      <th>0</th>\n",
       "      <td>2009-04-06</td>\n",
       "      <td>488</td>\n",
       "    </tr>\n",
       "    <tr>\n",
       "      <th>1</th>\n",
       "      <td>2009-04-07</td>\n",
       "      <td>2613</td>\n",
       "    </tr>\n",
       "    <tr>\n",
       "      <th>2</th>\n",
       "      <td>2009-04-17</td>\n",
       "      <td>485</td>\n",
       "    </tr>\n",
       "    <tr>\n",
       "      <th>3</th>\n",
       "      <td>2009-04-18</td>\n",
       "      <td>3374</td>\n",
       "    </tr>\n",
       "    <tr>\n",
       "      <th>4</th>\n",
       "      <td>2009-04-19</td>\n",
       "      <td>4170</td>\n",
       "    </tr>\n",
       "    <tr>\n",
       "      <th>5</th>\n",
       "      <td>2009-04-20</td>\n",
       "      <td>2852</td>\n",
       "    </tr>\n",
       "    <tr>\n",
       "      <th>6</th>\n",
       "      <td>2009-04-21</td>\n",
       "      <td>1294</td>\n",
       "    </tr>\n",
       "    <tr>\n",
       "      <th>7</th>\n",
       "      <td>2009-05-01</td>\n",
       "      <td>1155</td>\n",
       "    </tr>\n",
       "    <tr>\n",
       "      <th>8</th>\n",
       "      <td>2009-05-02</td>\n",
       "      <td>4216</td>\n",
       "    </tr>\n",
       "    <tr>\n",
       "      <th>9</th>\n",
       "      <td>2009-05-03</td>\n",
       "      <td>5336</td>\n",
       "    </tr>\n",
       "    <tr>\n",
       "      <th>10</th>\n",
       "      <td>2009-05-04</td>\n",
       "      <td>2343</td>\n",
       "    </tr>\n",
       "    <tr>\n",
       "      <th>11</th>\n",
       "      <td>2009-05-09</td>\n",
       "      <td>1791</td>\n",
       "    </tr>\n",
       "    <tr>\n",
       "      <th>12</th>\n",
       "      <td>2009-05-10</td>\n",
       "      <td>3986</td>\n",
       "    </tr>\n",
       "    <tr>\n",
       "      <th>13</th>\n",
       "      <td>2009-05-11</td>\n",
       "      <td>624</td>\n",
       "    </tr>\n",
       "    <tr>\n",
       "      <th>14</th>\n",
       "      <td>2009-05-13</td>\n",
       "      <td>612</td>\n",
       "    </tr>\n",
       "    <tr>\n",
       "      <th>15</th>\n",
       "      <td>2009-05-14</td>\n",
       "      <td>2666</td>\n",
       "    </tr>\n",
       "    <tr>\n",
       "      <th>16</th>\n",
       "      <td>2009-05-16</td>\n",
       "      <td>1433</td>\n",
       "    </tr>\n",
       "    <tr>\n",
       "      <th>17</th>\n",
       "      <td>2009-05-17</td>\n",
       "      <td>6138</td>\n",
       "    </tr>\n",
       "    <tr>\n",
       "      <th>18</th>\n",
       "      <td>2009-05-18</td>\n",
       "      <td>5502</td>\n",
       "    </tr>\n",
       "    <tr>\n",
       "      <th>19</th>\n",
       "      <td>2009-05-21</td>\n",
       "      <td>312</td>\n",
       "    </tr>\n",
       "    <tr>\n",
       "      <th>20</th>\n",
       "      <td>2009-05-22</td>\n",
       "      <td>6067</td>\n",
       "    </tr>\n",
       "    <tr>\n",
       "      <th>21</th>\n",
       "      <td>2009-05-23</td>\n",
       "      <td>28</td>\n",
       "    </tr>\n",
       "    <tr>\n",
       "      <th>22</th>\n",
       "      <td>2009-05-25</td>\n",
       "      <td>28</td>\n",
       "    </tr>\n",
       "    <tr>\n",
       "      <th>23</th>\n",
       "      <td>2009-05-26</td>\n",
       "      <td>1613</td>\n",
       "    </tr>\n",
       "    <tr>\n",
       "      <th>24</th>\n",
       "      <td>2009-05-27</td>\n",
       "      <td>126</td>\n",
       "    </tr>\n",
       "    <tr>\n",
       "      <th>25</th>\n",
       "      <td>2009-05-28</td>\n",
       "      <td>2435</td>\n",
       "    </tr>\n",
       "    <tr>\n",
       "      <th>26</th>\n",
       "      <td>2009-05-29</td>\n",
       "      <td>5337</td>\n",
       "    </tr>\n",
       "    <tr>\n",
       "      <th>27</th>\n",
       "      <td>2009-05-30</td>\n",
       "      <td>5959</td>\n",
       "    </tr>\n",
       "    <tr>\n",
       "      <th>28</th>\n",
       "      <td>2009-05-31</td>\n",
       "      <td>5580</td>\n",
       "    </tr>\n",
       "    <tr>\n",
       "      <th>29</th>\n",
       "      <td>2009-06-01</td>\n",
       "      <td>6891</td>\n",
       "    </tr>\n",
       "    <tr>\n",
       "      <th>30</th>\n",
       "      <td>2009-06-02</td>\n",
       "      <td>3784</td>\n",
       "    </tr>\n",
       "    <tr>\n",
       "      <th>31</th>\n",
       "      <td>2009-06-03</td>\n",
       "      <td>2434</td>\n",
       "    </tr>\n",
       "    <tr>\n",
       "      <th>32</th>\n",
       "      <td>2009-06-04</td>\n",
       "      <td>476</td>\n",
       "    </tr>\n",
       "    <tr>\n",
       "      <th>33</th>\n",
       "      <td>2009-06-05</td>\n",
       "      <td>3575</td>\n",
       "    </tr>\n",
       "    <tr>\n",
       "      <th>34</th>\n",
       "      <td>2009-06-06</td>\n",
       "      <td>6654</td>\n",
       "    </tr>\n",
       "    <tr>\n",
       "      <th>35</th>\n",
       "      <td>2009-06-07</td>\n",
       "      <td>5949</td>\n",
       "    </tr>\n",
       "    <tr>\n",
       "      <th>36</th>\n",
       "      <td>2009-06-14</td>\n",
       "      <td>553</td>\n",
       "    </tr>\n",
       "    <tr>\n",
       "      <th>37</th>\n",
       "      <td>2009-06-15</td>\n",
       "      <td>6811</td>\n",
       "    </tr>\n",
       "    <tr>\n",
       "      <th>38</th>\n",
       "      <td>2009-06-16</td>\n",
       "      <td>6602</td>\n",
       "    </tr>\n",
       "    <tr>\n",
       "      <th>39</th>\n",
       "      <td>2009-06-17</td>\n",
       "      <td>6705</td>\n",
       "    </tr>\n",
       "    <tr>\n",
       "      <th>40</th>\n",
       "      <td>2009-06-18</td>\n",
       "      <td>6490</td>\n",
       "    </tr>\n",
       "    <tr>\n",
       "      <th>41</th>\n",
       "      <td>2009-06-19</td>\n",
       "      <td>6674</td>\n",
       "    </tr>\n",
       "    <tr>\n",
       "      <th>42</th>\n",
       "      <td>2009-06-20</td>\n",
       "      <td>6988</td>\n",
       "    </tr>\n",
       "    <tr>\n",
       "      <th>43</th>\n",
       "      <td>2009-06-21</td>\n",
       "      <td>2495</td>\n",
       "    </tr>\n",
       "    <tr>\n",
       "      <th>44</th>\n",
       "      <td>2009-06-22</td>\n",
       "      <td>1858</td>\n",
       "    </tr>\n",
       "    <tr>\n",
       "      <th>45</th>\n",
       "      <td>2009-06-23</td>\n",
       "      <td>2570</td>\n",
       "    </tr>\n",
       "    <tr>\n",
       "      <th>46</th>\n",
       "      <td>2009-06-24</td>\n",
       "      <td>892</td>\n",
       "    </tr>\n",
       "    <tr>\n",
       "      <th>47</th>\n",
       "      <td>2009-06-25</td>\n",
       "      <td>3036</td>\n",
       "    </tr>\n",
       "  </tbody>\n",
       "</table>\n",
       "</div>"
      ],
      "text/plain": [
       "          Date  Count\n",
       "0   2009-04-06    488\n",
       "1   2009-04-07   2613\n",
       "2   2009-04-17    485\n",
       "3   2009-04-18   3374\n",
       "4   2009-04-19   4170\n",
       "5   2009-04-20   2852\n",
       "6   2009-04-21   1294\n",
       "7   2009-05-01   1155\n",
       "8   2009-05-02   4216\n",
       "9   2009-05-03   5336\n",
       "10  2009-05-04   2343\n",
       "11  2009-05-09   1791\n",
       "12  2009-05-10   3986\n",
       "13  2009-05-11    624\n",
       "14  2009-05-13    612\n",
       "15  2009-05-14   2666\n",
       "16  2009-05-16   1433\n",
       "17  2009-05-17   6138\n",
       "18  2009-05-18   5502\n",
       "19  2009-05-21    312\n",
       "20  2009-05-22   6067\n",
       "21  2009-05-23     28\n",
       "22  2009-05-25     28\n",
       "23  2009-05-26   1613\n",
       "24  2009-05-27    126\n",
       "25  2009-05-28   2435\n",
       "26  2009-05-29   5337\n",
       "27  2009-05-30   5959\n",
       "28  2009-05-31   5580\n",
       "29  2009-06-01   6891\n",
       "30  2009-06-02   3784\n",
       "31  2009-06-03   2434\n",
       "32  2009-06-04    476\n",
       "33  2009-06-05   3575\n",
       "34  2009-06-06   6654\n",
       "35  2009-06-07   5949\n",
       "36  2009-06-14    553\n",
       "37  2009-06-15   6811\n",
       "38  2009-06-16   6602\n",
       "39  2009-06-17   6705\n",
       "40  2009-06-18   6490\n",
       "41  2009-06-19   6674\n",
       "42  2009-06-20   6988\n",
       "43  2009-06-21   2495\n",
       "44  2009-06-22   1858\n",
       "45  2009-06-23   2570\n",
       "46  2009-06-24    892\n",
       "47  2009-06-25   3036"
      ]
     },
     "execution_count": 16,
     "metadata": {},
     "output_type": "execute_result"
    }
   ],
   "source": [
    "# Counting number of tweets with dates correspondingly \n",
    "\n",
    "ens_learn['date'] = pd.to_datetime(ens_learn['date']).dt.date\n",
    "numberoftweets = ens_learn.groupby('date').size()\n",
    "numberoftweets=numberoftweets.reset_index()\n",
    "numberoftweets.columns=['Date', 'Count']\n",
    "numberoftweets\n"
   ]
  },
  {
   "cell_type": "code",
   "execution_count": 17,
   "id": "63395f90",
   "metadata": {},
   "outputs": [
    {
     "data": {
      "image/png": "[encoded data removed]",
      "text/plain": [
       "<Figure size 1440x1296 with 1 Axes>"
      ]
     },
     "metadata": {
      "needs_background": "light"
     },
     "output_type": "display_data"
    }
   ],
   "source": [
    "# Plotting the tweets with counts\n",
    "\n",
    "plt.figure(figsize=(20,18))\n",
    "show = sb.countplot(data = ens_learn, y = 'date',\n",
    "                   palette='flare',\n",
    "                   order = ens_learn.date.value_counts().index)\n",
    "\n",
    "show.bar_label(show.containers[0])\n",
    "show.set_title('Increasing Counts of Tweets Vs Date', size = '20')\n",
    "plt.ylabel(\"Dates\", size = '20')\n",
    "plt.xlabel(\"Counts of Tweets\", size = '20')\n",
    "plt.show()"
   ]
  },
  {
   "cell_type": "markdown",
   "id": "00f6996f",
   "metadata": {},
   "source": [
    "# Question 2"
   ]
  },
  {
   "cell_type": "markdown",
   "id": "e5ea6aef",
   "metadata": {},
   "source": [
    "## Bag of Words "
   ]
  },
  {
   "cell_type": "code",
   "execution_count": 18,
   "id": "89d660d7",
   "metadata": {},
   "outputs": [],
   "source": [
    "# split the data into training and testing  \n",
    "train, test = train_test_split(ens_learn, test_size=0.3, random_state=15)"
   ]
  },
  {
   "cell_type": "code",
   "execution_count": 19,
   "id": "e97f991a",
   "metadata": {},
   "outputs": [],
   "source": [
    "# Build the BOW model using Tokenizer\n",
    "victor = Tokenizer()\n",
    "victor.fit_on_texts(train.stemming)"
   ]
  },
  {
   "cell_type": "code",
   "execution_count": 20,
   "id": "ae08f1bb",
   "metadata": {},
   "outputs": [],
   "source": [
    "maxcount = ens_learn['stemming'].apply(lambda x: len(x.split())).max()"
   ]
  },
  {
   "cell_type": "code",
   "execution_count": 21,
   "id": "044197dd",
   "metadata": {},
   "outputs": [
    {
     "data": {
      "text/plain": [
       "35"
      ]
     },
     "execution_count": 21,
     "metadata": {},
     "output_type": "execute_result"
    }
   ],
   "source": [
    "maxcount"
   ]
  },
  {
   "cell_type": "markdown",
   "id": "7ebdd260",
   "metadata": {},
   "source": [
    "- We will apply our modelling on the stemmed data and later on, we will do CNN and then compare the results."
   ]
  },
  {
   "cell_type": "code",
   "execution_count": 22,
   "id": "d3f0c1eb",
   "metadata": {},
   "outputs": [],
   "source": [
    "# Training set\n",
    "my_train = victor.texts_to_sequences(train.stemming)\n",
    "# Test set\n",
    "my_test = victor.texts_to_sequences(test.stemming)"
   ]
  },
  {
   "cell_type": "code",
   "execution_count": 23,
   "id": "39666844",
   "metadata": {},
   "outputs": [],
   "source": [
    "X_train = pad_sequences(my_train, maxlen=maxcount, padding=\"post\")\n",
    "X_test = pad_sequences(my_test, maxlen=maxcount, padding=\"post\")\n",
    "\n",
    "y_train = train.target.values\n",
    "y_test = test.target.values"
   ]
  },
  {
   "cell_type": "code",
   "execution_count": 24,
   "id": "a5913d8f",
   "metadata": {},
   "outputs": [
    {
     "data": {
      "text/plain": [
       "(112000, 35)"
      ]
     },
     "execution_count": 24,
     "metadata": {},
     "output_type": "execute_result"
    }
   ],
   "source": [
    "X_train.shape"
   ]
  },
  {
   "cell_type": "markdown",
   "id": "a18b4fd8",
   "metadata": {},
   "source": [
    "## Question 2+3) Modelling"
   ]
  },
  {
   "cell_type": "code",
   "execution_count": 25,
   "id": "2ba58ebe",
   "metadata": {},
   "outputs": [
    {
     "name": "stdout",
     "output_type": "stream",
     "text": [
      "KNeighborsClassifier(n_neighbors=16)\n"
     ]
    }
   ],
   "source": [
    "# Making KNN Model\n",
    "KNN = KNeighborsClassifier(n_neighbors=16).fit(X_train, y_train)\n",
    "print (KNN)"
   ]
  },
  {
   "cell_type": "markdown",
   "id": "b0271cb8",
   "metadata": {},
   "source": [
    "## 1) KNN  "
   ]
  },
  {
   "cell_type": "code",
   "execution_count": 26,
   "id": "072c63ba",
   "metadata": {},
   "outputs": [],
   "source": [
    "KNN_predictions = KNN.predict(X_test)"
   ]
  },
  {
   "cell_type": "markdown",
   "id": "4c1f6f1f",
   "metadata": {},
   "source": [
    "## Accuracy "
   ]
  },
  {
   "cell_type": "markdown",
   "id": "6aba2b7f",
   "metadata": {},
   "source": [
    "- Following is the accuracy of our KNN model"
   ]
  },
  {
   "cell_type": "code",
   "execution_count": 27,
   "id": "9a8dea86",
   "metadata": {},
   "outputs": [
    {
     "data": {
      "text/plain": [
       "0.7640208333333334"
      ]
     },
     "execution_count": 27,
     "metadata": {},
     "output_type": "execute_result"
    }
   ],
   "source": [
    "# Checking the accuracy\n",
    "KNN.score(X_test,y_test)"
   ]
  },
  {
   "cell_type": "markdown",
   "id": "3e6e0ff3",
   "metadata": {},
   "source": [
    "## Classification Report "
   ]
  },
  {
   "cell_type": "code",
   "execution_count": 28,
   "id": "46084b08",
   "metadata": {},
   "outputs": [
    {
     "name": "stdout",
     "output_type": "stream",
     "text": [
      "              precision    recall  f1-score   support\n",
      "\n",
      "           0       0.77      0.99      0.86     36644\n",
      "           4       0.52      0.04      0.07     11356\n",
      "\n",
      "    accuracy                           0.76     48000\n",
      "   macro avg       0.64      0.51      0.47     48000\n",
      "weighted avg       0.71      0.76      0.68     48000\n",
      "\n"
     ]
    }
   ],
   "source": [
    "print(classification_report(y_test,KNN_predictions))"
   ]
  },
  {
   "cell_type": "markdown",
   "id": "936c9bb8",
   "metadata": {},
   "source": [
    "## Confusion Matrix "
   ]
  },
  {
   "cell_type": "code",
   "execution_count": 29,
   "id": "fc804e69",
   "metadata": {},
   "outputs": [
    {
     "data": {
      "image/png": "[encoded data removed]",
      "text/plain": [
       "<Figure size 864x504 with 2 Axes>"
      ]
     },
     "metadata": {
      "needs_background": "light"
     },
     "output_type": "display_data"
    }
   ],
   "source": [
    "# Confusion Matrix\n",
    "cm_KNN = confusion_matrix(y_test,KNN_predictions)\n",
    "\n",
    "# plot confusion matrix \n",
    "plt.figure(figsize=(12,7))\n",
    "sentiment_classes = ['Negative', 'Positive']\n",
    "sb.heatmap(cm_KNN, cmap=plt.cm.Greens, annot=True,cbar_kws={'label': 'Count of Tweets'},  fmt='d',  \n",
    "            xticklabels=sentiment_classes,\n",
    "            yticklabels=sentiment_classes)\n",
    "plt.xlabel('Predicted', fontsize=15)\n",
    "plt.ylabel('Truth', fontsize=15)\n",
    "plt.title('Confusion matrix', fontsize=20)\n",
    "plt.show()"
   ]
  },
  {
   "cell_type": "markdown",
   "id": "54b0055b",
   "metadata": {},
   "source": [
    "- This is the confusion matrix for our KNN Model"
   ]
  },
  {
   "cell_type": "markdown",
   "id": "ef3769de",
   "metadata": {},
   "source": [
    "## 2)  Decision Tree"
   ]
  },
  {
   "cell_type": "code",
   "execution_count": 30,
   "id": "1e9182c4",
   "metadata": {},
   "outputs": [],
   "source": [
    "# Making Decision Tree Model\n",
    "Dec_Tree = DecisionTreeClassifier(\n",
    "    criterion='entropy', max_depth=4).fit(X_train, y_train)"
   ]
  },
  {
   "cell_type": "code",
   "execution_count": 31,
   "id": "a1dd0f24",
   "metadata": {},
   "outputs": [],
   "source": [
    "Dec_Tree_predictions = Dec_Tree.predict(X_test)"
   ]
  },
  {
   "cell_type": "markdown",
   "id": "d20fae5b",
   "metadata": {},
   "source": [
    "## Accuracy "
   ]
  },
  {
   "cell_type": "markdown",
   "id": "78b129fd",
   "metadata": {},
   "source": [
    "- Below is the accuracy for our Decision Tree Model"
   ]
  },
  {
   "cell_type": "code",
   "execution_count": 32,
   "id": "3edc973e",
   "metadata": {},
   "outputs": [
    {
     "data": {
      "text/plain": [
       "0.7679791666666667"
      ]
     },
     "execution_count": 32,
     "metadata": {},
     "output_type": "execute_result"
    }
   ],
   "source": [
    "# Checking the accuracy\n",
    "Dec_Tree.score(X_test,y_test)"
   ]
  },
  {
   "cell_type": "markdown",
   "id": "1ecf0bc4",
   "metadata": {},
   "source": [
    "## Classification Report "
   ]
  },
  {
   "cell_type": "code",
   "execution_count": 33,
   "id": "dbfea23d",
   "metadata": {},
   "outputs": [
    {
     "name": "stdout",
     "output_type": "stream",
     "text": [
      "              precision    recall  f1-score   support\n",
      "\n",
      "           0       0.77      1.00      0.87     36644\n",
      "           4       0.70      0.03      0.06     11356\n",
      "\n",
      "    accuracy                           0.77     48000\n",
      "   macro avg       0.73      0.51      0.47     48000\n",
      "weighted avg       0.75      0.77      0.68     48000\n",
      "\n"
     ]
    }
   ],
   "source": [
    "print(classification_report(y_test,Dec_Tree_predictions))"
   ]
  },
  {
   "cell_type": "markdown",
   "id": "8ef91daa",
   "metadata": {},
   "source": [
    "## Confusion Matrix "
   ]
  },
  {
   "cell_type": "code",
   "execution_count": 34,
   "id": "fb7bee3e",
   "metadata": {},
   "outputs": [
    {
     "data": {
      "image/png": "[encoded data removed]",
      "text/plain": [
       "<Figure size 864x504 with 2 Axes>"
      ]
     },
     "metadata": {
      "needs_background": "light"
     },
     "output_type": "display_data"
    }
   ],
   "source": [
    "# Confusion Matrix\n",
    "cm_Dec_Tree = confusion_matrix(y_test,Dec_Tree_predictions)\n",
    "\n",
    "# plot confusion matrix \n",
    "plt.figure(figsize=(12,7))\n",
    "sentiment_classes = ['Negative', 'Positive']\n",
    "sb.heatmap(cm_Dec_Tree, cmap=plt.cm.Greens, annot=True,cbar_kws={'label': 'Counts of Tweets'},  fmt='d',  \n",
    "            xticklabels=sentiment_classes,\n",
    "            yticklabels=sentiment_classes)\n",
    "plt.xlabel('Predicted', fontsize=15)\n",
    "plt.ylabel('Truth', fontsize=15)\n",
    "plt.title('Confusion matrix', fontsize=20)\n",
    "plt.show()"
   ]
  },
  {
   "cell_type": "markdown",
   "id": "6a2cde52",
   "metadata": {},
   "source": [
    "- This is the confusion matrix for our Decision Tree Model"
   ]
  },
  {
   "cell_type": "markdown",
   "id": "057561a3",
   "metadata": {},
   "source": [
    "## 3) SVM "
   ]
  },
  {
   "cell_type": "code",
   "execution_count": 35,
   "id": "57c4a9f2",
   "metadata": {},
   "outputs": [],
   "source": [
    "# Building the SVM Model\n",
    "SVM = svm.SVC(kernel='rbf').fit(X_train, (y_train))"
   ]
  },
  {
   "cell_type": "code",
   "execution_count": 36,
   "id": "bf12ec2a",
   "metadata": {},
   "outputs": [],
   "source": [
    "SVM_predictions = SVM.predict(X_test)"
   ]
  },
  {
   "cell_type": "markdown",
   "id": "1187a883",
   "metadata": {},
   "source": [
    "## Accuracy "
   ]
  },
  {
   "cell_type": "markdown",
   "id": "18fb506d",
   "metadata": {},
   "source": [
    "- Following is the accuracy of our SVM Model. SVM models takes the longest time among all for the training and the outcomes."
   ]
  },
  {
   "cell_type": "code",
   "execution_count": 37,
   "id": "4883459e",
   "metadata": {},
   "outputs": [
    {
     "data": {
      "text/plain": [
       "0.763375"
      ]
     },
     "execution_count": 37,
     "metadata": {},
     "output_type": "execute_result"
    }
   ],
   "source": [
    "SVM.score(X_test,y_test)"
   ]
  },
  {
   "cell_type": "markdown",
   "id": "5acc1d04",
   "metadata": {},
   "source": [
    "## Classification Report "
   ]
  },
  {
   "cell_type": "code",
   "execution_count": 38,
   "id": "fca160ae",
   "metadata": {},
   "outputs": [
    {
     "name": "stdout",
     "output_type": "stream",
     "text": [
      "              precision    recall  f1-score   support\n",
      "\n",
      "           0       0.76      1.00      0.87     36644\n",
      "           4       0.00      0.00      0.00     11356\n",
      "\n",
      "    accuracy                           0.76     48000\n",
      "   macro avg       0.38      0.50      0.43     48000\n",
      "weighted avg       0.58      0.76      0.66     48000\n",
      "\n"
     ]
    }
   ],
   "source": [
    "print(classification_report(y_test,SVM_predictions))"
   ]
  },
  {
   "cell_type": "markdown",
   "id": "032869f0",
   "metadata": {},
   "source": [
    "## Confusion Matrix"
   ]
  },
  {
   "cell_type": "code",
   "execution_count": 39,
   "id": "92791a7a",
   "metadata": {},
   "outputs": [
    {
     "data": {
      "image/png": "[encoded data removed]",
      "text/plain": [
       "<Figure size 864x504 with 2 Axes>"
      ]
     },
     "metadata": {
      "needs_background": "light"
     },
     "output_type": "display_data"
    }
   ],
   "source": [
    "cm_svm = confusion_matrix(y_test,SVM_predictions)\n",
    "\n",
    "# plot confusion matrix \n",
    "plt.figure(figsize=(12,7))\n",
    "sentiment_classes = ['Negative', 'Positive']\n",
    "sb.heatmap(cm_svm, cmap=plt.cm.Greens, annot=True,cbar_kws={'label': 'Count of Tweets'},  fmt='d',  \n",
    "            xticklabels=sentiment_classes,\n",
    "            yticklabels=sentiment_classes)\n",
    "plt.xlabel('Predicted', fontsize=15)\n",
    "plt.ylabel('Truth', fontsize=15)\n",
    "plt.title('Confusion matrix', fontsize=20)\n",
    "plt.show()"
   ]
  },
  {
   "cell_type": "markdown",
   "id": "406f7823",
   "metadata": {},
   "source": [
    "## Question 4 "
   ]
  },
  {
   "cell_type": "markdown",
   "id": "b96858ed",
   "metadata": {},
   "source": [
    "## Word2Vec "
   ]
  },
  {
   "cell_type": "markdown",
   "id": "b6e8366a",
   "metadata": {},
   "source": [
    "- Now we will use Word2Vec and then make the CNN model"
   ]
  },
  {
   "cell_type": "code",
   "execution_count": 40,
   "id": "99e10e5c",
   "metadata": {},
   "outputs": [],
   "source": [
    "from gensim.models import Word2Vec"
   ]
  },
  {
   "cell_type": "code",
   "execution_count": 42,
   "id": "3febf0ff",
   "metadata": {},
   "outputs": [],
   "source": [
    "texts_w2v = ens_learn.stemming.apply(tokenize).to_list()\n",
    "\n",
    "w2v = Word2Vec(sentences = texts_w2v, window = 3,\n",
    "               vector_size = X_train.shape[1], min_count = 5, workers = 4, sg = 1)"
   ]
  },
  {
   "cell_type": "code",
   "execution_count": 43,
   "id": "edb59366",
   "metadata": {},
   "outputs": [
    {
     "data": {
      "text/plain": [
       "<gensim.models.word2vec.Word2Vec at 0x207315bd9d0>"
      ]
     },
     "execution_count": 43,
     "metadata": {},
     "output_type": "execute_result"
    }
   ],
   "source": [
    "w2v"
   ]
  },
  {
   "cell_type": "markdown",
   "id": "02cb9df6",
   "metadata": {},
   "source": [
    "- Now we would decode our 0 as Ngative tweets, 2 as neutral and 4 as the positive ones and store them in the decode_sentiment function"
   ]
  },
  {
   "cell_type": "code",
   "execution_count": 44,
   "id": "05fe2e82",
   "metadata": {},
   "outputs": [],
   "source": [
    "decode = {0: \"Negative\", 2: \"Neutral\", 4: \"Positive\"}\n",
    "def decode_sentiments(label):\n",
    "    return decode[int(label)]"
   ]
  },
  {
   "cell_type": "code",
   "execution_count": 45,
   "id": "a2cc5052",
   "metadata": {},
   "outputs": [
    {
     "data": {
      "text/plain": [
       "985655    Positive\n",
       "281720    Negative\n",
       "64837     Negative\n",
       "589260    Negative\n",
       "474319    Negative\n",
       "            ...   \n",
       "426580    Negative\n",
       "626932    Negative\n",
       "360512    Negative\n",
       "549056    Negative\n",
       "463076    Negative\n",
       "Name: target, Length: 112000, dtype: object"
      ]
     },
     "execution_count": 45,
     "metadata": {},
     "output_type": "execute_result"
    }
   ],
   "source": [
    "train.target.apply(lambda x: decode_sentiments(x))"
   ]
  },
  {
   "cell_type": "code",
   "execution_count": 46,
   "id": "dab4d4af",
   "metadata": {},
   "outputs": [],
   "source": [
    "labels = train.target.unique().tolist()\n",
    "labels.append('Neutral')"
   ]
  },
  {
   "cell_type": "markdown",
   "id": "9156eec3",
   "metadata": {},
   "source": [
    "- First, a LabelEncoder object is created and fit on the target column of the train data. This is a preprocessing step that converts the labels in the target column into integer values. For example, if the target column contains the labels 'cat', 'dog', and 'bird', the LabelEncoder will convert these labels into the integers 0, 1, and 2, respectively.\n",
    "\n",
    "- Next, the LabelEncoder is fit on the target column of the test data. This allows the encoder to learn the mapping between the labels and integer values for the test data as well.\n",
    "\n",
    "- Then, the transform method is used to apply the label encoding to the target columns of both the train and test data. The resulting integer arrays are stored in the variables y_train and y_test, respectively.\n",
    "\n",
    "- Finally, the reshape method is used to reshape the y_train and y_test arrays into a column vector shape with a single column and as many rows as needed. The -1 value for the number of rows tells NumPy to infer the number of rows based on the length of the data and the number of columns."
   ]
  },
  {
   "cell_type": "code",
   "execution_count": 47,
   "id": "f4cdcd9f",
   "metadata": {},
   "outputs": [
    {
     "name": "stdout",
     "output_type": "stream",
     "text": [
      "y_train (112000, 1)\n",
      "y_test (48000, 1)\n"
     ]
    }
   ],
   "source": [
    "\n",
    "encode = LabelEncoder()\n",
    "encode.fit(train.target.tolist())\n",
    "encode.fit(test.target.tolist())\n",
    "\n",
    "y_train = encode.transform(train.target.tolist())\n",
    "y_test = encode.transform(test.target.tolist())\n",
    "\n",
    "y_train = y_train.reshape(-1,1)\n",
    "y_test = y_test.reshape(-1,1)\n",
    "\n",
    "print(\"y_train\",y_train.shape)\n",
    "print(\"y_test\",y_test.shape)"
   ]
  },
  {
   "cell_type": "markdown",
   "id": "be91f311",
   "metadata": {},
   "source": [
    "- After below code has been run, the embed array should contain the embedding vectors for the words in the vocabulary, with one row per word and one column per feature in the embedding space. The embed array can then be used as input to a machine learning model to capture the semantic meaning of the words in a text."
   ]
  },
  {
   "cell_type": "code",
   "execution_count": 48,
   "id": "3fece671",
   "metadata": {},
   "outputs": [
    {
     "name": "stdout",
     "output_type": "stream",
     "text": [
      "(42425, 35)\n"
     ]
    }
   ],
   "source": [
    "max_length = len(victor.word_index)+1\n",
    "embed = np.zeros((max_length, X_train.shape[1]))\n",
    "for word, i in victor.word_index.items():\n",
    "  if word in w2v.wv:\n",
    "    embed[i] = w2v.wv[word]\n",
    "print(embed.shape)"
   ]
  },
  {
   "cell_type": "markdown",
   "id": "254a86a7",
   "metadata": {},
   "source": [
    "## CNN Model "
   ]
  },
  {
   "cell_type": "code",
   "execution_count": 49,
   "id": "1bebd5c3",
   "metadata": {},
   "outputs": [
    {
     "name": "stdout",
     "output_type": "stream",
     "text": [
      "Model: \"sequential\"\n",
      "_________________________________________________________________\n",
      " Layer (type)                Output Shape              Param #   \n",
      "=================================================================\n",
      " embedding (Embedding)       (None, 35, 35)            1484875   \n",
      "                                                                 \n",
      " dropout (Dropout)           (None, 35, 35)            0         \n",
      "                                                                 \n",
      " lstm (LSTM)                 (None, 100)               54400     \n",
      "                                                                 \n",
      " dense (Dense)               (None, 1)                 101       \n",
      "                                                                 \n",
      "=================================================================\n",
      "Total params: 1,539,376\n",
      "Trainable params: 54,501\n",
      "Non-trainable params: 1,484,875\n",
      "_________________________________________________________________\n"
     ]
    }
   ],
   "source": [
    "cnn= models.Sequential()\n",
    "cnn.add(Embedding(max_length, X_train.shape[1], \n",
    "                        weights= [embed], input_length= X_train.shape[1], trainable= False))\n",
    "cnn.add(Dropout(0.5))\n",
    "cnn.add(LSTM(100, dropout=0.2, recurrent_dropout=0.2))\n",
    "cnn.add(Dense(1, activation='sigmoid'))\n",
    "cnn.summary()"
   ]
  },
  {
   "cell_type": "code",
   "execution_count": 50,
   "id": "8cc8bb62",
   "metadata": {},
   "outputs": [],
   "source": [
    "cnn.compile(loss='binary_crossentropy', optimizer=\"adam\", metrics=['accuracy'])"
   ]
  },
  {
   "cell_type": "code",
   "execution_count": 51,
   "id": "6f6a71fd",
   "metadata": {},
   "outputs": [],
   "source": [
    "remember = [ReduceLROnPlateau(monitor='val_loss', patience=5, cooldown=0), EarlyStopping(monitor='val_acc', min_delta=1e-4, patience=5)]"
   ]
  },
  {
   "cell_type": "code",
   "execution_count": 52,
   "id": "1efdfccd",
   "metadata": {},
   "outputs": [
    {
     "name": "stdout",
     "output_type": "stream",
     "text": [
      "Epoch 1/15\n",
      "2880/2880 [==============================] - 120s 39ms/step - loss: 0.4999 - accuracy: 0.7747 - val_loss: 0.4601 - val_accuracy: 0.7882\n",
      "Epoch 2/15\n",
      "2880/2880 [==============================] - 112s 39ms/step - loss: 0.4815 - accuracy: 0.7824 - val_loss: 0.4503 - val_accuracy: 0.7965\n",
      "Epoch 3/15\n",
      "2880/2880 [==============================] - 111s 39ms/step - loss: 0.4741 - accuracy: 0.7841 - val_loss: 0.4440 - val_accuracy: 0.7963\n",
      "Epoch 4/15\n",
      "2880/2880 [==============================] - 107s 37ms/step - loss: 0.4696 - accuracy: 0.7860 - val_loss: 0.4410 - val_accuracy: 0.8014\n",
      "Epoch 5/15\n",
      "2880/2880 [==============================] - 111s 38ms/step - loss: 0.4657 - accuracy: 0.7876 - val_loss: 0.4445 - val_accuracy: 0.8026\n",
      "Epoch 6/15\n",
      "2880/2880 [==============================] - 113s 39ms/step - loss: 0.4633 - accuracy: 0.7882 - val_loss: 0.4425 - val_accuracy: 0.8013\n",
      "Epoch 7/15\n",
      "2880/2880 [==============================] - 110s 38ms/step - loss: 0.4598 - accuracy: 0.7902 - val_loss: 0.4334 - val_accuracy: 0.8043\n",
      "Epoch 8/15\n",
      "2880/2880 [==============================] - 112s 39ms/step - loss: 0.4584 - accuracy: 0.7917 - val_loss: 0.4327 - val_accuracy: 0.8054\n",
      "Epoch 9/15\n",
      "2880/2880 [==============================] - 109s 38ms/step - loss: 0.4568 - accuracy: 0.7894 - val_loss: 0.4342 - val_accuracy: 0.8004\n",
      "Epoch 10/15\n",
      "2880/2880 [==============================] - 109s 38ms/step - loss: 0.4547 - accuracy: 0.7922 - val_loss: 0.4323 - val_accuracy: 0.8004\n",
      "Epoch 11/15\n",
      "2880/2880 [==============================] - 112s 39ms/step - loss: 0.4539 - accuracy: 0.7919 - val_loss: 0.4266 - val_accuracy: 0.8044\n",
      "Epoch 12/15\n",
      "2880/2880 [==============================] - 108s 37ms/step - loss: 0.4520 - accuracy: 0.7930 - val_loss: 0.4271 - val_accuracy: 0.8054\n",
      "Epoch 13/15\n",
      "2880/2880 [==============================] - 114s 40ms/step - loss: 0.4522 - accuracy: 0.7930 - val_loss: 0.4374 - val_accuracy: 0.8009\n",
      "Epoch 14/15\n",
      "2880/2880 [==============================] - 111s 39ms/step - loss: 0.4522 - accuracy: 0.7926 - val_loss: 0.4341 - val_accuracy: 0.8024\n",
      "Epoch 15/15\n",
      "2880/2880 [==============================] - 106s 37ms/step - loss: 0.4494 - accuracy: 0.7930 - val_loss: 0.4258 - val_accuracy: 0.8038\n"
     ]
    }
   ],
   "source": [
    "results = cnn.fit(X_train, y_train, batch_size=X_train.shape[1], epochs=15, validation_split=0.1, verbose=1)"
   ]
  },
  {
   "cell_type": "code",
   "execution_count": 53,
   "id": "8fcca886",
   "metadata": {},
   "outputs": [
    {
     "name": "stdout",
     "output_type": "stream",
     "text": [
      "1500/1500 [==============================] - 19s 12ms/step\n"
     ]
    }
   ],
   "source": [
    "cnn_pred = cnn.predict(X_test)\n",
    "cnn_pred = np.where(cnn_pred < 0.5, 0, 1)"
   ]
  },
  {
   "cell_type": "markdown",
   "id": "96d50262",
   "metadata": {},
   "source": [
    "## Accuracy "
   ]
  },
  {
   "cell_type": "markdown",
   "id": "1743b791",
   "metadata": {},
   "source": [
    "- Below is the accuracy for the CNN Matix"
   ]
  },
  {
   "cell_type": "code",
   "execution_count": 60,
   "id": "73c569eb",
   "metadata": {},
   "outputs": [
    {
     "name": "stdout",
     "output_type": "stream",
     "text": [
      "1500/1500 [==============================] - 26s 17ms/step - loss: 0.4176 - accuracy: 0.8102\n"
     ]
    },
    {
     "data": {
      "text/plain": [
       "[0.4175514280796051, 0.8102291822433472]"
      ]
     },
     "execution_count": 60,
     "metadata": {},
     "output_type": "execute_result"
    }
   ],
   "source": [
    "cnn.evaluate(X_test,y_test)"
   ]
  },
  {
   "cell_type": "markdown",
   "id": "0352fe51",
   "metadata": {},
   "source": [
    "## Classification Matrix "
   ]
  },
  {
   "cell_type": "code",
   "execution_count": 55,
   "id": "5e21aa83",
   "metadata": {},
   "outputs": [
    {
     "name": "stdout",
     "output_type": "stream",
     "text": [
      "              precision    recall  f1-score   support\n",
      "\n",
      "           0       0.84      0.93      0.88     36644\n",
      "           1       0.66      0.42      0.51     11356\n",
      "\n",
      "    accuracy                           0.81     48000\n",
      "   macro avg       0.75      0.67      0.70     48000\n",
      "weighted avg       0.79      0.81      0.79     48000\n",
      "\n"
     ]
    }
   ],
   "source": [
    "print(classification_report(y_test,cnn_pred))"
   ]
  },
  {
   "cell_type": "markdown",
   "id": "0317ceb5",
   "metadata": {},
   "source": [
    "## Confusion Matrix "
   ]
  },
  {
   "cell_type": "code",
   "execution_count": 66,
   "id": "ed275023",
   "metadata": {},
   "outputs": [
    {
     "data": {
      "image/png": "[encoded data removed]",
      "text/plain": [
       "<Figure size 864x504 with 2 Axes>"
      ]
     },
     "metadata": {
      "needs_background": "light"
     },
     "output_type": "display_data"
    }
   ],
   "source": [
    "cm_cnn = confusion_matrix(y_test,cnn_pred)\n",
    "\n",
    "# plot confusion matrix \n",
    "plt.figure(figsize=(12,7))\n",
    "sentiment_classes = ['Negative', 'Positive']\n",
    "sb.heatmap(cm_cnn, cmap=plt.cm.Greens, annot=True,cbar_kws={'label': 'Count of Tweets'},  fmt='d',  \n",
    "            xticklabels=sentiment_classes,\n",
    "            yticklabels=sentiment_classes)\n",
    "plt.xlabel('Predicted', fontsize=15)\n",
    "plt.ylabel('Truth', fontsize=15)\n",
    "plt.title('Confusion matrix', fontsize=20)\n",
    "plt.show()"
   ]
  },
  {
   "cell_type": "markdown",
   "id": "b1f7cbf3",
   "metadata": {},
   "source": [
    "## Results "
   ]
  },
  {
   "cell_type": "code",
   "execution_count": 58,
   "id": "1489b804",
   "metadata": {},
   "outputs": [
    {
     "data": {
      "text/html": [
       "<div>\n",
       "<style scoped>\n",
       "    .dataframe tbody tr th:only-of-type {\n",
       "        vertical-align: middle;\n",
       "    }\n",
       "\n",
       "    .dataframe tbody tr th {\n",
       "        vertical-align: top;\n",
       "    }\n",
       "\n",
       "    .dataframe thead th {\n",
       "        text-align: right;\n",
       "    }\n",
       "</style>\n",
       "<table border=\"1\" class=\"dataframe\">\n",
       "  <thead>\n",
       "    <tr style=\"text-align: right;\">\n",
       "      <th></th>\n",
       "      <th>Algorithm</th>\n",
       "      <th>Score</th>\n",
       "    </tr>\n",
       "  </thead>\n",
       "  <tbody>\n",
       "    <tr>\n",
       "      <th>0</th>\n",
       "      <td>KNN</td>\n",
       "      <td>0.755708</td>\n",
       "    </tr>\n",
       "    <tr>\n",
       "      <th>1</th>\n",
       "      <td>Decision Tree</td>\n",
       "      <td>0.759917</td>\n",
       "    </tr>\n",
       "    <tr>\n",
       "      <th>2</th>\n",
       "      <td>SVM</td>\n",
       "      <td>0.763375</td>\n",
       "    </tr>\n",
       "    <tr>\n",
       "      <th>3</th>\n",
       "      <td>CNN</td>\n",
       "      <td>0.810229</td>\n",
       "    </tr>\n",
       "  </tbody>\n",
       "</table>\n",
       "</div>"
      ],
      "text/plain": [
       "       Algorithm     Score\n",
       "0            KNN  0.755708\n",
       "1  Decision Tree  0.759917\n",
       "2            SVM  0.763375\n",
       "3            CNN  0.810229"
      ]
     },
     "execution_count": 58,
     "metadata": {},
     "output_type": "execute_result"
    }
   ],
   "source": [
    "df_results = pd.DataFrame()\n",
    "df_results['Algorithm'] = [\n",
    "    'KNN', 'Decision Tree', 'SVM', 'CNN']\n",
    "df_results['Score'] = [accuracy_score(KNN_predictions,y_test), accuracy_score(Dec_Tree_predictions,y_test),accuracy_score(SVM_predictions,y_test),accuracy_score(cnn_pred,y_test) ]\n",
    "df_results.columns = ['Algorithm','Score']\n",
    "df_results"
   ]
  },
  {
   "cell_type": "markdown",
   "id": "a63f9311",
   "metadata": {},
   "source": [
    "- As we can see that the accuracy of SVM is giving us the best accuracy from our dataframe among the first three. But when we compare the upper three models with CNN then CNN is giving us the best accuracy among all as shown."
   ]
  },
  {
   "cell_type": "code",
   "execution_count": 71,
   "id": "ffc2a61e",
   "metadata": {},
   "outputs": [
    {
     "data": {
      "image/png": "[encoded data removed]",
      "text/plain": [
       "<Figure size 1296x360 with 8 Axes>"
      ]
     },
     "metadata": {
      "needs_background": "light"
     },
     "output_type": "display_data"
    }
   ],
   "source": [
    "df_cm = pd.DataFrame()\n",
    "df_cm['Name'] = ['KNN','Decision Tree','SVM','CNN']\n",
    "df_cm['CM'] = [cm_KNN,cm_Dec_Tree,cm_svm,cm_cnn]\n",
    "df_cm.columns = ['Name','CM']\n",
    "df_cm = df_cm.transpose()\n",
    "\n",
    "fig, ax = plt.subplots(ncols=4, nrows=1, figsize=(18, 5))\n",
    "ax = ax.flatten()\n",
    "sentiment_classes = ['Negative', 'Positive']\n",
    "index=0\n",
    "for i in df_cm.columns:\n",
    "    sb.heatmap(df_cm[i][1], annot=True, ax=ax[index],cbar_kws={'label': 'Counts of Tweets'}, fmt='d',  \n",
    "            xticklabels=sentiment_classes , yticklabels=sentiment_classes ,cmap=\"PiYG\")\n",
    "    ax[index].set_title(df_cm[i][0])\n",
    "    ax[index].set_xlabel('Predicted')\n",
    "    ax[index].set_ylabel('Truth')\n",
    "    index += 1\n",
    "plt.tight_layout(pad=2)\n",
    "plt.show()"
   ]
  },
  {
   "cell_type": "markdown",
   "id": "0193d1f2",
   "metadata": {},
   "source": [
    "- If we see the balanced data among all the trained models then CNN is the best. There is a difference among all but CNN is having the least difference among these 3. The accuracy and the confusion matrix shows that CNN is most efficient"
   ]
  }
 ],
 "metadata": {
  "kernelspec": {
   "display_name": "Python 3 (ipykernel)",
   "language": "python",
   "name": "python3"
  },
  "language_info": {
   "codemirror_mode": {
    "name": "ipython",
    "version": 3
   },
   "file_extension": ".py",
   "mimetype": "text/x-python",
   "name": "python",
   "nbconvert_exporter": "python",
   "pygments_lexer": "ipython3",
   "version": "3.9.12"
  }
 },
 "nbformat": 4,
 "nbformat_minor": 5
}
